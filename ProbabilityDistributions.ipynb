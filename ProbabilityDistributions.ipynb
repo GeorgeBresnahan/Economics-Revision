{
 "cells": [
  {
   "cell_type": "markdown",
   "metadata": {},
   "source": [
    "Random Variables represent a possible numerical value from a random experiment. There are two types of Random variables: Discrete Random Variables and Continuous Random Variables.\n",
    "\n",
    "**Discrete Random Variables** - Take on no more than a countable number of values\n",
    "\n",
    "**Continuous Random Variables** - can take on any value in an interval. Possible values are measured on a continuum.\n",
    "\n",
    "Probability denotes how likely it is that a random Variable X takes a specific value x denoted P(X) = x , measured on a scale from 0 (the event never occurs) to 1 (the event always occurs).\n",
    "\n",
    "A probability distribution desceives how a random variable is distributed, it tells us which values a random variable is most likely to take on and which values are less likely. \n",
    "\n",
    "In statistics there are a range of precisely defined probability distributions which have different shapes and can be used to model different types of random events. \n",
    "\n",
    "The core Probability distributions depend on the type of Random Variable thus we have:\n",
    "\n",
    "**Discrete probability Distributions** : - Binomial - Poisson - Hypergeometric\n",
    "\n",
    "**Continuous Probability Distributions** : - Uniform - Normal - Exponential"
   ]
  },
  {
   "cell_type": "markdown",
   "metadata": {},
   "source": [
    "## The Uniform Distribution\n",
    "\n",
    "The Uniform distribution is a continuous probability distribution that has equal probability for all equal width intervals within the range of the random variable. Each value within a certain range is equally likely to occur and values outside of the range never occur.\n",
    " \n",
    "The density plot of the uniform distribution, appears flat because no value is more likely or less likely than another."
   ]
  },
  {
   "cell_type": "code",
   "execution_count": 51,
   "metadata": {},
   "outputs": [],
   "source": [
    "import numpy as np \n",
    "import pandas as pd\n",
    "import matplotlib.pyplot as plt\n",
    "import scipy.stats as stats"
   ]
  },
  {
   "cell_type": "code",
   "execution_count": 52,
   "metadata": {},
   "outputs": [
    {
     "data": {
      "text/plain": [
       "<Axes: ylabel='Density'>"
      ]
     },
     "execution_count": 52,
     "metadata": {},
     "output_type": "execute_result"
    },
    {
     "data": {
      "image/png": "[encoded data removed]",
      "text/plain": [
       "<Figure size 640x480 with 1 Axes>"
      ]
     },
     "metadata": {},
     "output_type": "display_data"
    }
   ],
   "source": [
    "uniform_data = stats.uniform.rvs(size =100000, loc = 0, scale = 10)\n",
    "pd.DataFrame(uniform_data).plot(kind=\"density\")"
   ]
  },
  {
   "cell_type": "markdown",
   "metadata": {},
   "source": [
    "Aside:\n",
    "\n",
    "## Pseudorandom Number generation\n",
    "\n",
    "The numpy.random module supplements the built in Python random module with functions for effeciently generating whole arrays of sample values from many kinds of probability distributions. \n",
    "\n",
    "These random numbers are not truly random but pseudorandom as they are generated by a configurable random number generator that determines what values are created.\n",
    "\n",
    "The result of a random process can differ from one run to the next. Having results that vary each time is often not desirable. If i wanted someone to reproduce my results exactly i would have a problem using randomization. To ensure the results are the same each time the function is used we can set the random number generators seed value to initialize the intiial state of the generator prior to running."
   ]
  },
  {
   "cell_type": "code",
   "execution_count": 53,
   "metadata": {},
   "outputs": [
    {
     "name": "stdout",
     "output_type": "stream",
     "text": [
      "[array(2.90108952), array(1.64169675), array(2.91805308), array(2.14444798)]\n",
      "[array(2.09318647), array(0.64826849), array(2.92882336), array(0.01869077)]\n",
      "[array(2.90108952), array(1.64169675), array(2.91805308), array(2.14444798)]\n"
     ]
    }
   ],
   "source": [
    "np.random.seed(4)\n",
    "\n",
    "print([np.random.uniform(size = (), low = 0, high = 3) for x in range(4)])\n",
    "\n",
    "print([np.random.uniform(size = (), low = 0, high = 3) for x in range(4)])\n",
    "\n",
    "np.random.seed(4)\n",
    "print([np.random.uniform(size = (), low = 0, high = 3) for x in range(4)])"
   ]
  },
  {
   "cell_type": "markdown",
   "metadata": {},
   "source": [
    "Returning to the Uniform Distribution:\n",
    "\n",
    "The continuous uniform distribution probability density function is: $ f(x) = 1/(b-a)$ for values in between hte range a and b else wise $f(x) = 0$\n",
    "\n",
    "For the Uniform distribution $ \\mu = (a+b)/2 $ and the variance:  $\\sigma^2 = (b-a)^2/ 12$"
   ]
  },
  {
   "cell_type": "markdown",
   "metadata": {},
   "source": [
    "## The Normal Distribution\n",
    "\n",
    "The normal or Gaussian distribution is a continuous probability distribution characterized by a symmetric bell-shaped curve. A normal distribution is defined by its center(mean) and spread(standard deviation). The bulk of the observations generated from a normal distribution lie near the mean, which lies at the exact center of the distribution. The normal distribution closely approximates the probability distributions of a wide range of random variables. \n",
    "\n",
    "Importantly Distributions of Sample Means apprach a normal distribution given a large sample size.\n",
    "\n",
    "By varying parameters $\\mu$ and $\\sigma$ we obtain different normal distributions.\n",
    "\n",
    "We define normal distribution using the notation $$ X \\sim N(\\mu, \\sigma^2) $$\n",
    "\n",
    "A rule of thumb iwth the normal distribution:\n",
    "\n",
    "68% of the data lies within 1 standard deviation of the mean,\n",
    "95% within 2 standard deviations,\n",
    "99.7% within 3 standard deviations\n"
   ]
  },
  {
   "cell_type": "markdown",
   "metadata": {},
   "source": []
  },
  {
   "cell_type": "code",
   "execution_count": 54,
   "metadata": {},
   "outputs": [
    {
     "name": "stdout",
     "output_type": "stream",
     "text": [
      "0.15865525393145707 0.15865525393145707 0.6826894921370859\n"
     ]
    }
   ],
   "source": [
    "# Stats.distribution.cdf() gives us the cumulative distribution funciton which is denoted F(x) for a continuous random variable expresses the probability that X does not not exceed the value x.\n",
    "# It gives you the area under the distributions density curve to the left of a certain value of the x axis. \n",
    "\n",
    "# Lets check the previous percentiles given using the cdf.\n",
    "\n",
    "import scipy.stats as stats\n",
    "\n",
    "prob_under_1std = stats.norm.cdf(x = -1, loc = 0, scale = 1) # n.b loc specifies the mean, scale the std , so technically this is the standard normal distribution\n",
    "\n",
    "prob_over_1std = 1 - stats.norm.cdf(x = 1, loc = 0, scale = 1) # as we want area in tails\n",
    "\n",
    "between_1std = 1 - (prob_over_1std + prob_under_1std) \n",
    "\n",
    "print(prob_under_1std, prob_over_1std , between_1std)"
   ]
  },
  {
   "cell_type": "code",
   "execution_count": 55,
   "metadata": {},
   "outputs": [
    {
     "name": "stdout",
     "output_type": "stream",
     "text": [
      "[0.99445788 1.95996398 2.96773793]\n"
     ]
    }
   ],
   "source": [
    "# Stats.distribution.ppf() is the inverse of the cdf() it returns the value associated with a given probability it is the percent point funciton and returns the value of a variable that has a\n",
    "# given cdf probability\n",
    "\n",
    "cumulative_probs = [(1 + x) / 2 for x in [0.68, 0.95, 0.997]]  # we want the area to the left of the curve\n",
    "i = [print(stats.norm.ppf(q = x, loc = 0, scale = 1)) for x in [cumulative_probs]]\n"
   ]
  },
  {
   "cell_type": "markdown",
   "metadata": {},
   "source": [
    "## The standard normal distribution\n",
    "\n",
    "Any normal distribution can be transformed into a standardized normal distribution z with mean 0 and variance 1. We do this by $$ z = (X-\\mu) / {\\sigma} $$\n",
    "\n",
    "We transform x units into z units. \n",
    "\n",
    "The distribution is the same only the scale has been changed. \n",
    "\n",
    "The utility of this is that we can use the Standard Normal Distribution Table to find values fo the cumulative normal distribution function. Which for any given z-value a the table shows F(a) area under the curve. Which allows us to find the probability of values below."
   ]
  },
  {
   "cell_type": "markdown",
   "metadata": {},
   "source": [
    "# Assessing Normality \n",
    "\n",
    "Not all continuous random variables are normally distributed \n",
    "\n",
    "It is important to evaluate how well the data is approximated by teh normal distribution before we transform it into the standard normal distribution.\n",
    "\n",
    "One way to do this is by the normal probability plot. Which arranges data from low to high and finds the Cumulative normal probability for each value."
   ]
  },
  {
   "cell_type": "code",
   "execution_count": 56,
   "metadata": {},
   "outputs": [
    {
     "data": {
      "text/html": [
       "<div>\n",
       "<style scoped>\n",
       "    .dataframe tbody tr th:only-of-type {\n",
       "        vertical-align: middle;\n",
       "    }\n",
       "\n",
       "    .dataframe tbody tr th {\n",
       "        vertical-align: top;\n",
       "    }\n",
       "\n",
       "    .dataframe thead th {\n",
       "        text-align: right;\n",
       "    }\n",
       "</style>\n",
       "<table border=\"1\" class=\"dataframe\">\n",
       "  <thead>\n",
       "    <tr style=\"text-align: right;\">\n",
       "      <th></th>\n",
       "      <th>mpg</th>\n",
       "      <th>cyl</th>\n",
       "      <th>disp</th>\n",
       "      <th>hp</th>\n",
       "      <th>drat</th>\n",
       "      <th>wt</th>\n",
       "      <th>qsec</th>\n",
       "      <th>vs</th>\n",
       "      <th>am</th>\n",
       "      <th>gear</th>\n",
       "      <th>carb</th>\n",
       "    </tr>\n",
       "    <tr>\n",
       "      <th>model</th>\n",
       "      <th></th>\n",
       "      <th></th>\n",
       "      <th></th>\n",
       "      <th></th>\n",
       "      <th></th>\n",
       "      <th></th>\n",
       "      <th></th>\n",
       "      <th></th>\n",
       "      <th></th>\n",
       "      <th></th>\n",
       "      <th></th>\n",
       "    </tr>\n",
       "  </thead>\n",
       "  <tbody>\n",
       "    <tr>\n",
       "      <th>Mazda RX4</th>\n",
       "      <td>21.0</td>\n",
       "      <td>6</td>\n",
       "      <td>160.0</td>\n",
       "      <td>110</td>\n",
       "      <td>3.90</td>\n",
       "      <td>2.620</td>\n",
       "      <td>16.46</td>\n",
       "      <td>0</td>\n",
       "      <td>1</td>\n",
       "      <td>4</td>\n",
       "      <td>4</td>\n",
       "    </tr>\n",
       "    <tr>\n",
       "      <th>Mazda RX4 Wag</th>\n",
       "      <td>21.0</td>\n",
       "      <td>6</td>\n",
       "      <td>160.0</td>\n",
       "      <td>110</td>\n",
       "      <td>3.90</td>\n",
       "      <td>2.875</td>\n",
       "      <td>17.02</td>\n",
       "      <td>0</td>\n",
       "      <td>1</td>\n",
       "      <td>4</td>\n",
       "      <td>4</td>\n",
       "    </tr>\n",
       "    <tr>\n",
       "      <th>Datsun 710</th>\n",
       "      <td>22.8</td>\n",
       "      <td>4</td>\n",
       "      <td>108.0</td>\n",
       "      <td>93</td>\n",
       "      <td>3.85</td>\n",
       "      <td>2.320</td>\n",
       "      <td>18.61</td>\n",
       "      <td>1</td>\n",
       "      <td>1</td>\n",
       "      <td>4</td>\n",
       "      <td>1</td>\n",
       "    </tr>\n",
       "    <tr>\n",
       "      <th>Hornet 4 Drive</th>\n",
       "      <td>21.4</td>\n",
       "      <td>6</td>\n",
       "      <td>258.0</td>\n",
       "      <td>110</td>\n",
       "      <td>3.08</td>\n",
       "      <td>3.215</td>\n",
       "      <td>19.44</td>\n",
       "      <td>1</td>\n",
       "      <td>0</td>\n",
       "      <td>3</td>\n",
       "      <td>1</td>\n",
       "    </tr>\n",
       "    <tr>\n",
       "      <th>Hornet Sportabout</th>\n",
       "      <td>18.7</td>\n",
       "      <td>8</td>\n",
       "      <td>360.0</td>\n",
       "      <td>175</td>\n",
       "      <td>3.15</td>\n",
       "      <td>3.440</td>\n",
       "      <td>17.02</td>\n",
       "      <td>0</td>\n",
       "      <td>0</td>\n",
       "      <td>3</td>\n",
       "      <td>2</td>\n",
       "    </tr>\n",
       "  </tbody>\n",
       "</table>\n",
       "</div>"
      ],
      "text/plain": [
       "                    mpg  cyl   disp   hp  drat     wt   qsec  vs  am  gear  \\\n",
       "model                                                                        \n",
       "Mazda RX4          21.0    6  160.0  110  3.90  2.620  16.46   0   1     4   \n",
       "Mazda RX4 Wag      21.0    6  160.0  110  3.90  2.875  17.02   0   1     4   \n",
       "Datsun 710         22.8    4  108.0   93  3.85  2.320  18.61   1   1     4   \n",
       "Hornet 4 Drive     21.4    6  258.0  110  3.08  3.215  19.44   1   0     3   \n",
       "Hornet Sportabout  18.7    8  360.0  175  3.15  3.440  17.02   0   0     3   \n",
       "\n",
       "                   carb  \n",
       "model                    \n",
       "Mazda RX4             4  \n",
       "Mazda RX4 Wag         4  \n",
       "Datsun 710            1  \n",
       "Hornet 4 Drive        1  \n",
       "Hornet Sportabout     2  "
      ]
     },
     "execution_count": 56,
     "metadata": {},
     "output_type": "execute_result"
    }
   ],
   "source": [
    "import os \n",
    "os.chdir('C:/Users/George Bresnahan/OneDrive/Desktop/Python Datasets/archive')\n",
    "os.getcwd()\n",
    "os.listdir()\n",
    "car_data = pd.read_csv('mtcars.csv')\n",
    "car_data.head(5)\n",
    "mtcars = car_data.rename(columns={'Unnamed: 0': 'model'}).set_index('model')\n",
    "mtcars.head(5)"
   ]
  },
  {
   "cell_type": "code",
   "execution_count": 57,
   "metadata": {},
   "outputs": [
    {
     "data": {
      "image/png": "[encoded data removed]",
      "text/plain": [
       "<Figure size 640x480 with 1 Axes>"
      ]
     },
     "metadata": {},
     "output_type": "display_data"
    }
   ],
   "source": [
    "fig = plt.figure()\n",
    "stats.probplot(x = mtcars['hp'], dist='norm', plot = plt)\n",
    "plt.show()"
   ]
  },
  {
   "cell_type": "markdown",
   "metadata": {},
   "source": [
    "## The BINOMIAL Distribution\n",
    "\n",
    "The Binomial Distribution is a discrete probability distribution that models the outcomes of a given number of random trials of some experiment or event. The binomial probability distribution has:\n",
    "- a fixed number of observations n\n",
    "- two mutually exclusive and collectively exhaustive categories\n",
    "- Constant probability for each observation\n",
    "- Observations are independent \n",
    "\n",
    "The binomial distribution is defined by two parameters: the probability of success in any given trials P and the number of trials n. The binomial distribution tells you how likely it is to achieve a given number of successes in n trials of the experiment. \n",
    "\n",
    "An example ofo the Binomial Distributions use would be in the case of flipping a fair coin 10 times, where the number of trials is 10 and teh probability of success is 0.5. The Binomial distribution would tell us how likely it is we get 0,1,2 heads."
   ]
  },
  {
   "cell_type": "code",
   "execution_count": 58,
   "metadata": {},
   "outputs": [],
   "source": [
    "fair_coin_flips = stats.binom.rvs(n = 10, p = 0.5, size = 10000)"
   ]
  },
  {
   "cell_type": "code",
   "execution_count": 59,
   "metadata": {},
   "outputs": [
    {
     "data": {
      "text/html": [
       "<div>\n",
       "<style scoped>\n",
       "    .dataframe tbody tr th:only-of-type {\n",
       "        vertical-align: middle;\n",
       "    }\n",
       "\n",
       "    .dataframe tbody tr th {\n",
       "        vertical-align: top;\n",
       "    }\n",
       "\n",
       "    .dataframe thead th {\n",
       "        text-align: right;\n",
       "    }\n",
       "</style>\n",
       "<table border=\"1\" class=\"dataframe\">\n",
       "  <thead>\n",
       "    <tr style=\"text-align: right;\">\n",
       "      <th>col_0</th>\n",
       "      <th>0</th>\n",
       "      <th>1</th>\n",
       "      <th>2</th>\n",
       "      <th>3</th>\n",
       "      <th>4</th>\n",
       "      <th>5</th>\n",
       "      <th>6</th>\n",
       "      <th>7</th>\n",
       "      <th>8</th>\n",
       "      <th>9</th>\n",
       "      <th>10</th>\n",
       "    </tr>\n",
       "    <tr>\n",
       "      <th>row_0</th>\n",
       "      <th></th>\n",
       "      <th></th>\n",
       "      <th></th>\n",
       "      <th></th>\n",
       "      <th></th>\n",
       "      <th></th>\n",
       "      <th></th>\n",
       "      <th></th>\n",
       "      <th></th>\n",
       "      <th></th>\n",
       "      <th></th>\n",
       "    </tr>\n",
       "  </thead>\n",
       "  <tbody>\n",
       "    <tr>\n",
       "      <th>counts</th>\n",
       "      <td>10</td>\n",
       "      <td>93</td>\n",
       "      <td>461</td>\n",
       "      <td>1187</td>\n",
       "      <td>2060</td>\n",
       "      <td>2382</td>\n",
       "      <td>2054</td>\n",
       "      <td>1181</td>\n",
       "      <td>453</td>\n",
       "      <td>113</td>\n",
       "      <td>6</td>\n",
       "    </tr>\n",
       "  </tbody>\n",
       "</table>\n",
       "</div>"
      ],
      "text/plain": [
       "col_0   0   1    2     3     4     5     6     7    8    9   10\n",
       "row_0                                                          \n",
       "counts  10  93  461  1187  2060  2382  2054  1181  453  113   6"
      ]
     },
     "execution_count": 59,
     "metadata": {},
     "output_type": "execute_result"
    }
   ],
   "source": [
    "\n",
    "coin_crosstab = pd.crosstab(index = 'counts', columns = fair_coin_flips)\n",
    "coin_crosstab"
   ]
  },
  {
   "cell_type": "code",
   "execution_count": 65,
   "metadata": {},
   "outputs": [
    {
     "data": {
      "text/plain": [
       "array([[<Axes: title={'center': '0'}>]], dtype=object)"
      ]
     },
     "execution_count": 65,
     "metadata": {},
     "output_type": "execute_result"
    },
    {
     "data": {
      "image/png": "[encoded data removed]",
      "text/plain": [
       "<Figure size 640x480 with 1 Axes>"
      ]
     },
     "metadata": {},
     "output_type": "display_data"
    }
   ],
   "source": [
    "pd.DataFrame(fair_coin_flips).hist(range=(-0.5,10.5), bins= 11)"
   ]
  },
  {
   "cell_type": "markdown",
   "metadata": {},
   "source": [
    "Since the Binomial Distribution is discrete, it only takes on integer values, meaning we can summarize the binomial data witha a frequency table and its distribution with a histogram. The historgram shows us that a binomial distribution iwht a 50% probability of success is roughly symmetric, with the most likely outcomes lying at the center. \n",
    "\n",
    "This looks similar to the normal distribution, and the reason for this is that the Normal Distribution is a good approximation to the Binomial Distribution when n is large. More specifically when $$nP(1-p) > 5 $$\n",
    "\n",
    "The normal is a very good approximation for the binomial when this condition is met, the implication of this is we can standardize x values of the binomial distribution to a z value. Which allows us using the Z-score table to calculate probabilities of binomially distributed discrete random variables."
   ]
  },
  {
   "cell_type": "markdown",
   "metadata": {},
   "source": [
    "## The Hypergeometric and Exponential Distributions\n",
    "\n",
    "The HyperGeometric (Discrete), Geometric and the Exponential (Continuous) distributions model the time it takes for an event to occur.\n",
    "\n",
    "The Geometric Distribution models the number of trials it takes to achieve success in repeated experiments with a given probability of success. The Geometric takes a sample with replacement.\n",
    "\n",
    "The HyperGeometric distribution models the the probability of x success in the sample when there are s successes in the population. The sample is taken without replacement and the outcomes of the trial are dependant on each other. \n",
    "\n",
    "The Exponential Distribution is used to model the length of time between two occurences of an event(the time between arrival). It is a continuous analog of the geometric distribution and models that amount of time you have to wait between an event occurs given a certain occurence rate. For example the time between trucks arriving \n",
    "\n"
   ]
  },
  {
   "cell_type": "markdown",
   "metadata": {},
   "source": [
    "## The Poisson Distribution\n",
    "\n",
    "The Poisson distribution is used to determine the probability of random variables which characterises the number of occurrences or successes of a certain event in a given continuous interval such as time, S.A or length.\n",
    "\n",
    "Taken from Kaggle\n",
    "\n",
    "The Poisson distribution models the probability of seeing a certain number of successes within a time interval, where the time it takes for the next success is modeled by an exponential distribution. The Poisson distribution can be used to model traffic, such as number of arrivals at hospital in an hours time.\n",
    "\n",
    "We assume an interval is divided into a very large number of equal subintervals where the probability of occurrence of an event in any subinterval is very small.\n",
    "\n",
    "We assume the probability of the occurence of an event is constant for all subintervals, there can be no more than once occurence in each subinterval, and occurences are independent i.e one occurence does not influence the probability of an occurence in another interval.\n",
    "\n"
   ]
  },
  {
   "cell_type": "markdown",
   "metadata": {},
   "source": [
    "The Poisson approximation to the Binomial Distribution.  If the number of trials n is large and nP is of moderate size <= 7, the distribution can be approximated by the Poisson distribution."
   ]
  }
 ],
 "metadata": {
  "kernelspec": {
   "display_name": "Python 3",
   "language": "python",
   "name": "python3"
  },
  "language_info": {
   "codemirror_mode": {
    "name": "ipython",
    "version": 3
   },
   "file_extension": ".py",
   "mimetype": "text/x-python",
   "name": "python",
   "nbconvert_exporter": "python",
   "pygments_lexer": "ipython3",
   "version": "3.12.4"
  }
 },
 "nbformat": 4,
 "nbformat_minor": 2
}
