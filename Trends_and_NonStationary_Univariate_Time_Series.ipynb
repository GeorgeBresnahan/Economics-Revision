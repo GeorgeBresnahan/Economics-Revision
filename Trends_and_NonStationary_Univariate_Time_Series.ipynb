{
 "cells": [
  {
   "cell_type": "markdown",
   "metadata": {},
   "source": [
    "## Trends and Non-Stationary Univariate Time Series\n",
    "\n",
    "## Stationary Time Series\n",
    "\n",
    "A (Covariance) Stationary univariate time series has the following properties:\n",
    "\n",
    "$$E[y_t] = \\mu $$\n",
    "$$Var(y_t) = \\gamma _0$$\n",
    "$$Cov(y_t, y_{t-k}) = \\gamma _K$$\n",
    "\n",
    "We can see all these moments (statistical parameters used to describe a distribution), are independent of time.\n",
    "Note: covariance only depends on the gap between observations K and doesn't depend upon t.\n",
    "\n",
    "A time series might violate these assumptions because it contains:\n",
    "1) A Deterministic trend - (stable linear time trend)\n",
    "2) A Stochastic trend or at least one unit root\n",
    "3) Both\n",
    "\n",
    "We need to be able to distinguish these factors as ignoring them might result in a **spurious** regression. Meaning the inference and possible relationships will be misleading.\n",
    "\n",
    "Remember! We do not know the underlying Data Generation Process"
   ]
  },
  {
   "cell_type": "markdown",
   "metadata": {},
   "source": [
    "## Deterministic Trends\n",
    "\n",
    "First thing to look at is whether the inclusion of a trend (time) explanatory variable helps explain the evolution of the dependant variable.\n",
    "\n",
    "We assume that the series has an unconditional mean which includes a (linear) time trend component which is a stable function of time.\n",
    "$$ E[y_t] = \\mu + \\sigma t $$\n",
    "\n",
    "Subtracting this unconditional mean from a simple AR(1) model we have:\n",
    "\n",
    "$$ y_t - \\mu - \\delta t = \\phi _1[y_{t-1} - \\mu - \\delta (t-1)] + \\epsilon _t$$\n",
    "\n",
    "we have subtracted the components of the mean related to time period t and the components of the mean related to time period t-1.\n",
    "\n",
    "expanding and rearranging this we get:\n",
    "\n",
    "$$ y_t = \\mu - \\phi _1\\mu + \\phi _1\\delta + \\delta t - \\phi _1\\delta t + \\phi _1 y_{t-1} + \\varepsilon _t$$\n",
    "\n",
    "which when we group common terms we can say this equals\n",
    "\n",
    "$$y_t = \\alpha + \\beta t + \\phi _1 y_{t-1} + \\varepsilon _t$$\n",
    "\n",
    "where $$ \\alpha = \\mu - \\phi _1 \\mu + \\phi _1 \\delta$$ and $$\\beta = \\delta - \\phi _1 \\delta$$\n",
    "\n",
    "importantly when $\\phi _1 = 1$ i.e the AR(1) process is a random walk. The equation evaluates to:\n",
    "\n",
    "$$y_t = \\delta + y_{t-1} + \\varepsilon _t$$\n",
    "\n",
    "which is a random walk with drift(intercept) where delta represents the delta term.\n",
    "\n",
    "Note a model with a deterministic trend given the absolute value of $\\phi$ < 1 , is stationary around this trend.\n",
    "\n",
    "**Key**: Including a trend in this type of model means standard regression and associated hypothesis tests are valid. If a stochastic trend is present however, these tests are not valid."
   ]
  },
  {
   "cell_type": "markdown",
   "metadata": {},
   "source": [
    "## Stochastic Trends and Unit roots\n",
    "\n",
    "A model with a stochastic (random) trend contains (at least one) unit root.\n",
    "\n",
    "The key difference with the deterministic trend model is that, in a stochastic model the variance and covariance are **time varying**. In a deterministic trend model only the mean is time varying **variance and covariance are not time varying provided phi < 1**.\n",
    "\n",
    "$$|\\phi| < 1 : Deterministic$$\n",
    "$$|\\phi| = 1 : Stochastic$$\n",
    "\n",
    "The number of times a series needs to be differenced (to remove unit roots) and become stationary, is the order of integration.\n",
    "\n",
    "A stationary series is therefore I(0)\n",
    "\n",
    "We test for Stationarity using the **Dickey Fuller Test**\n",
    "\n",
    "## Dickey Fuller Test\n",
    " $$H_0 : \\rho = 0$$\n",
    " $$H_A : \\rho < 0$$\n",
    "\n",
    " The null is that the series is non-stationary, the alternative is that it is stationary.\n",
    "\n",
    " We obtain the model by differencing to get.\n",
    "\n",
    "$$\\Delta y_t = (\\phi _1 - 1)y_{t-1} + \\varepsilon _t$$\n",
    "$$\\Delta y_t = \\rho y_{t-1} + \\varepsilon _t$$\n",
    "$$ \\rho = (\\phi _1 - 1)$$\n",
    "\n",
    "hence if $\\rho = 0$ $\\phi = 1$ and the series has a unit root.\n",
    "\n",
    "If  $\\rho < 0$ this means $\\phi < 0$ and the series is stationary as it does not have a unit root.\n",
    "\n",
    "Key: For both tests H_0 is non-stationary so the test statistic does not follow a standard t-distribution. Instead critical values follow a **Dickey Fuller Distribution* not a normal.\n",
    "\n",
    "For higher lag order Auto regressive processes we use the **Augmented Dickey Fuller test**.\n",
    "\n",
    "Manipulating a AR(2) model gives a equivalent regression of the form: $$\\Delta y_t = \\rho y_{t-1} + \\phi^*_1 \\Delta y_{t-1} + \\varepsilon _t$$\n",
    "\n",
    "AR(3) model gives: $$\\Delta y_t = \\rho y_{t-1} + \\phi^*_1 \\Delta y_{t-1} + \\phi^*_2 \\Delta y_{t-2} + \\varepsilon _t$$\n",
    "\n",
    "which means the Equivalent regression for an **AR(p)** model is:\n",
    "\n",
    "$$\\Delta y_t = \\rho y_{t-1} + \\sum_{i=1}^{p-1} \\phi_i^* \\Delta y_{t-i} + \\varepsilon_t$$\n",
    "\n",
    "To test for a unit root(this is a single tailed test)\n",
    "$$H_0 : \\rho = 0$$\n",
    "$$H_A : \\rho < 0$$\n",
    "\n",
    "If the null is true the series: has a unit root, is non stationary and has a stochastic (random) trend.\n",
    "If the null is false and the coefficient of y_t-1 is < 0, the series has no unit root and is stationary/trend stationary and is deterministic.\n",
    "\n",
    "Effectively we are testing to see if the sum of the AR coefficients equals to 1 which we can see in derivations of the equivalent regression equations.\n",
    "\n",
    "Importantly we must use Dickey Fuller critical values.\n",
    "\n",
    "which are obtained by dividing the estimate of $\\rho$ hat by the standard error of rho for the test value. \n",
    "\n",
    "Note: tests on the coefficients of lag ters are under normal distribution i.e $\\phi$ only tests of \\rho = 0 follow the DF distribution.\n",
    "\n",
    "An essential requirement for accuracy of the ADF test is that $$\\varepsilon \\sim WN$$ If correlation remains ADF test inference is invalid. Clearly we also don't know p in advance (the order of the regression) so this has to be chosen by either testing down or model selection criteria. Either way errore MUST be serially uncorrelated.\n",
    "\n",
    "**Deterministic Components in test** \n",
    "A unit root test might also contain determinstic components for example:\n",
    "\n",
    "$$\\Delta y_t = \\alpha + \\beta t + \\rho y_{t-1} + \\sum_{i=1}^{p-1} \\phi_i^* \\Delta y_{t-i} + \\varepsilon_t$$\n",
    "\n",
    "where alpha is the drift component and beta is the trend component. We test wether these should be included by following **Enders Procedure**.\n",
    "\n",
    "### 3 other types of unit root tests\n",
    "\n",
    "1) Phillips and Perron PP test - controls for correlations in $\\Delta y_t$ terms\n",
    "2) KPSS test - reverses the null and alternative hypothesis of ADF test\n",
    "3) Zivot Andrews test - since ADF tests are sensitive to structural breaks, this biases them towards non-rejection of the null. ZA test is robust to one time breaks.\n",
    "\n",
    "## Issues with Unit root tests\n",
    "\n",
    "- Sensitivity of lag length - too low p - large size distortion, - too high p = loss of power\n",
    "- we have low power when roots are close to unit circle. Recall power is probability of rejecting null when it is false.\n",
    "\n",
    "Let's conduct a Dickey Fuller test:"
   ]
  },
  {
   "cell_type": "code",
   "execution_count": 16,
   "metadata": {},
   "outputs": [
    {
     "name": "stdout",
     "output_type": "stream",
     "text": [
      "ADF Statistic: -1.2488872467159835\n",
      "p-value: 0.6522203230729988\n",
      "Critical Values: {'1%': np.float64(-3.4636447617687436), '5%': np.float64(-2.8761761179270766), '10%': np.float64(-2.57457158581854)}\n"
     ]
    }
   ],
   "source": [
    "import numpy as np\n",
    "import pandas as pd \n",
    "from statsmodels.tsa.stattools import adfuller\n",
    "\n",
    "np.random.seed(40)\n",
    "\n",
    "n = 200\n",
    "\n",
    "epsilon = np.random.normal(0,1,n)\n",
    "\n",
    "y = np.zeros(n)\n",
    "\n",
    "phi_1 = 1 # random walk as AR coefficient is 1\n",
    "\n",
    "for t in range(1,n):\n",
    "    y[t] = phi_1 * y[t-1] + epsilon[t]\n",
    "\n",
    "adf_test = adfuller(y , maxlag = None, autolag='BIC')\n",
    "print(\"ADF Statistic:\", adf_test[0])\n",
    "print(\"p-value:\", adf_test[1])\n",
    "print(\"Critical Values:\", adf_test[4])"
   ]
  },
  {
   "cell_type": "markdown",
   "metadata": {},
   "source": [
    "Since the p-value is 0.65 this means we have a 65% probability of observing values as extreme as our ADF statistic given that the null hypothesis is true, which means there is insufficient evidence to reject the null hypothesis of a unit root, the time series is non stationary."
   ]
  },
  {
   "cell_type": "code",
   "execution_count": 17,
   "metadata": {},
   "outputs": [
    {
     "name": "stdout",
     "output_type": "stream",
     "text": [
      "ADF Statistic: -7.729588262200314\n",
      "p-value: 1.1347468303149153e-11\n",
      "Critical Values: {'1%': np.float64(-3.4636447617687436), '5%': np.float64(-2.8761761179270766), '10%': np.float64(-2.57457158581854)}\n"
     ]
    }
   ],
   "source": [
    "np.random.seed(40)\n",
    "\n",
    "n = 200\n",
    "\n",
    "epsilon = np.random.normal(0,1,n)\n",
    "\n",
    "y = np.zeros(n)\n",
    "\n",
    "phi_1 = 0.5 # stationary as AR coefficient is 0.5\n",
    "\n",
    "for t in range(1,n):\n",
    "    y[t] = phi_1 * y[t-1] + epsilon[t]\n",
    "\n",
    "adf_test = adfuller(y , maxlag = None, autolag='BIC')\n",
    "print(\"ADF Statistic:\", adf_test[0])\n",
    "print(\"p-value:\", adf_test[1])\n",
    "print(\"Critical Values:\", adf_test[4])"
   ]
  },
  {
   "cell_type": "markdown",
   "metadata": {},
   "source": [
    "Here we see the p-value is low, which means there is sufficient evidence to reject the null hypothesis that there is a unit root at all significance levels. The series has no unit root and is therefore a stationary series."
   ]
  },
  {
   "cell_type": "markdown",
   "metadata": {},
   "source": []
  }
 ],
 "metadata": {
  "kernelspec": {
   "display_name": "Python 3",
   "language": "python",
   "name": "python3"
  },
  "language_info": {
   "codemirror_mode": {
    "name": "ipython",
    "version": 3
   },
   "file_extension": ".py",
   "mimetype": "text/x-python",
   "name": "python",
   "nbconvert_exporter": "python",
   "pygments_lexer": "ipython3",
   "version": "3.12.4"
  }
 },
 "nbformat": 4,
 "nbformat_minor": 2
}
