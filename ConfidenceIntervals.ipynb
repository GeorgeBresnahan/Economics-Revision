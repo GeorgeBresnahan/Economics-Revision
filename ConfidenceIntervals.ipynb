{
 "cells": [
  {
   "cell_type": "markdown",
   "metadata": {},
   "source": [
    "**Inferential Statistics** drawing conclusions and/or making decisions concerning a population based only on sample data.\n",
    "\n",
    "For inferential Statistics we make statements about the population by examining sample results.\n",
    "\n",
    "Estimation - e.g estimate the population mean using the sample mean\n",
    "\n",
    "Hypothesis Testing - we use sample evidence to test the claim of population values. \n",
    "\n",
    "A population is the set of all items or individuals of interest\n",
    "\n",
    "A sample is a subset of the population, we sample because it is less time consuming than a census, less costly to administer and it is possible to obtain high precision sample statistic results.\n"
   ]
  },
  {
   "cell_type": "markdown",
   "metadata": {},
   "source": [
    "## Point estimates\n",
    "\n",
    "Point estimates are estimates of population parameters based on sample data. The average of a sample is known as the sample mean. the sample mean is usually not exactly the same as the population mean.\n",
    "\n",
    "Let investigate point estimates by generating a population of random age data and then drawing a sample from it to estimate the mean:"
   ]
  },
  {
   "cell_type": "code",
   "execution_count": 87,
   "metadata": {},
   "outputs": [],
   "source": [
    "import numpy as np \n",
    "import pandas as pd\n",
    "import matplotlib.pyplot as plt\n",
    "import seaborn as sns\n",
    "import scipy.stats as stats\n"
   ]
  },
  {
   "cell_type": "code",
   "execution_count": 88,
   "metadata": {},
   "outputs": [
    {
     "data": {
      "text/plain": [
       "np.float64(43.002372)"
      ]
     },
     "execution_count": 88,
     "metadata": {},
     "output_type": "execute_result"
    }
   ],
   "source": [
    "np.random.seed(10)\n",
    "\n",
    "population_ages1 = stats.poisson.rvs(loc = 18, mu = 35, size = 150000)\n",
    "population_ages2 = stats.poisson.rvs(loc = 18, mu = 10, size = 100000)\n",
    "population_ages = np.concatenate((population_ages1, population_ages2))\n",
    "\n",
    "population_ages.mean()"
   ]
  },
  {
   "cell_type": "markdown",
   "metadata": {},
   "source": [
    "This is the true Population mean."
   ]
  },
  {
   "cell_type": "code",
   "execution_count": 89,
   "metadata": {},
   "outputs": [
    {
     "name": "stdout",
     "output_type": "stream",
     "text": [
      "42.388\n"
     ]
    },
    {
     "data": {
      "text/plain": [
       "np.float64(0.614372000000003)"
      ]
     },
     "execution_count": 89,
     "metadata": {},
     "output_type": "execute_result"
    }
   ],
   "source": [
    "np.random.seed(6)\n",
    "\n",
    "sample_ages = np.random.choice(a = population_ages, size = 500) # sample 500 values\n",
    "\n",
    "print(sample_ages.mean())\n",
    "\n",
    "population_ages.mean() - sample_ages.mean()"
   ]
  },
  {
   "cell_type": "markdown",
   "metadata": {},
   "source": [
    "Our point estimate based on a sample of 500 individuals underestimates the true population of the mean by 0.6 years. This illustrates an important point that we can get a fairly accurate estimate of a large population by sampling a relatively small subset of individuals.\n",
    "\n",
    "Another point estimate that may be of interest is the proportion of the population belonging to a subcategory/ having some characteristic. The sample poportion provides an estimate of P.\n",
    "\n",
    "We can make a point estimate of this proportion by taking a sample and then checking the ratio in the sample.\n",
    "\n",
    "$$\\hat p = \\frac{number\\ of\\ items\\ in\\ sample\\ having\\ characteristic}{sample\\ size}$$\n",
    "\n",
    "$\\hat p$ has a binomial distribution but can be apporximated by a normal distribution when np(1-P) > 5\n",
    "\n",
    "Lets take for example we would like to know the race of each voter we poll, to get a sense of the overall demographics of the voter base."
   ]
  },
  {
   "cell_type": "code",
   "execution_count": 90,
   "metadata": {},
   "outputs": [
    {
     "name": "stdout",
     "output_type": "stream",
     "text": [
      "250000\n",
      "other 'true population proportion:' 0.1\n",
      "=======================================================\n",
      "hispanic 'true population proportion:' 0.2\n",
      "=======================================================\n",
      "black 'true population proportion:' 0.2\n",
      "=======================================================\n",
      "white 'true population proportion:' 0.4\n",
      "=======================================================\n",
      "asian 'true population proportion:' 0.1\n",
      "=======================================================\n",
      "other proportion estimate:\n",
      "0.099\n",
      "=======================================================\n",
      "hispanic proportion estimate:\n",
      "0.192\n",
      "=======================================================\n",
      "black proportion estimate:\n",
      "0.231\n",
      "=======================================================\n",
      "white proportion estimate:\n",
      "0.379\n",
      "=======================================================\n",
      "asian proportion estimate:\n",
      "0.099\n",
      "=======================================================\n"
     ]
    }
   ],
   "source": [
    "import random\n",
    "random.seed(10)\n",
    "\n",
    "population_races = ([\"white\"] *100000) + ([\"black\"] *50000) +\\\n",
    "                   ([\"hispanic\"]*50000) + ([\"asian\"]*25000) +\\\n",
    "                   ([\"other\"]*25000)\n",
    "\n",
    "demo_sample = random.sample(population_races, 1000) # use random as want count method\n",
    "\n",
    "print(len(population_races))\n",
    "for race in set(population_races):\n",
    "    print(f\"{race} 'true population proportion:' {population_races.count(race)/len(population_races)}\")\n",
    "    print('='*55)\n",
    "\n",
    "for race in set(demo_sample): #note set removes duplicates and gives a unique list of races\n",
    "    print( race + \" proportion estimate:\")\n",
    "    print(demo_sample.count(race)/1000)\n",
    "    print('='*55)\n",
    "\n"
   ]
  },
  {
   "cell_type": "markdown",
   "metadata": {},
   "source": [
    "The estimates as we can see are close to the true underlying population proportions."
   ]
  },
  {
   "cell_type": "markdown",
   "metadata": {},
   "source": [
    "## Sampling Distributions and The Central Limit Theorem\n",
    "\n",
    "Many statistical procedures assume that data follows a normal distribution, because the normal distribution has nice properties, like symmetry and having the majority of data clustered within a few SD of the mean. However often real world data is not normally distributed and since the distribution of the sample tends to mirror the distribution of the population, this means the sample taken from a population with a skewed distribution will also tend to be skewed.\n",
    "\n",
    "**The Central Limit Theorem** is one of the most important results of probability theory and serves as the foundation of many methods of statistical analysis. At a high level, the theorem states the distribution of many sample means, known as the sampling distribution, will be normally distributed. As long as the sample size is large enough. \n",
    "\n",
    "This rule holds even if the underlying distribution itself is not normally distributed. As a result we can treat the sample mean as if it were drawn normal distribution.\n",
    "\n",
    "To illustrate this lets create a sampling distribution by taking 200 samples from out population and then making 200 point estimates of the mean."
   ]
  },
  {
   "cell_type": "code",
   "execution_count": 91,
   "metadata": {},
   "outputs": [
    {
     "name": "stdout",
     "output_type": "stream",
     "text": [
      "[np.float64(42.378), np.float64(42.668), np.float64(42.938), np.float64(43.178), np.float64(43.374)]\n"
     ]
    },
    {
     "data": {
      "text/plain": [
       "<Axes: ylabel='Density'>"
      ]
     },
     "execution_count": 91,
     "metadata": {},
     "output_type": "execute_result"
    },
    {
     "data": {
      "image/png": "[encoded data removed]",
      "text/plain": [
       "<Figure size 900x900 with 1 Axes>"
      ]
     },
     "metadata": {},
     "output_type": "display_data"
    }
   ],
   "source": [
    "np.random.seed(10)\n",
    "\n",
    "point_estimates = []\n",
    "\n",
    "for x in range(200):\n",
    "    sample = np.random.choice(a = population_ages, size = 500)\n",
    "    point_estimates.append(sample.mean())\n",
    "\n",
    "print(point_estimates[0:5])\n",
    "\n",
    "pd.DataFrame(point_estimates).plot(kind = 'density', figsize = (9,9), xlim = (41,45))"
   ]
  },
  {
   "cell_type": "markdown",
   "metadata": {},
   "source": [
    "The sampling distribution appears to be roughly normal, despite the bimodal population distribution, two mode, that the samples were drawn from.\n",
    "\n",
    "In addition the mean of the sampling distribution approaches the true population mean."
   ]
  },
  {
   "cell_type": "code",
   "execution_count": 92,
   "metadata": {},
   "outputs": [
    {
     "name": "stdout",
     "output_type": "stream",
     "text": [
      "-0.08440799999999626\n",
      "-0.08440799999998205\n"
     ]
    }
   ],
   "source": [
    "print(population_ages.mean() - np.array(point_estimates).mean()) # lists lack a built in mean method, numpy arrays have a mean method\n",
    "\n",
    "#or\n",
    "\n",
    "print(sum(population_ages)/len(population_ages) - (sum(point_estimates)/ len(point_estimates)))\n",
    "\n",
    "# n.b difference is due to floating point precision numpy is optimized and can use higher precision."
   ]
  },
  {
   "cell_type": "markdown",
   "metadata": {},
   "source": [
    "note the more samples we take the better our estimate of the population parameter is likely to be.\n",
    "\n",
    "To extend the Central limit theorem looking at the normal probability plot of the point estimates, in order to access normality"
   ]
  },
  {
   "cell_type": "code",
   "execution_count": 93,
   "metadata": {},
   "outputs": [
    {
     "data": {
      "image/png": "[encoded data removed]",
      "text/plain": [
       "<Figure size 640x480 with 1 Axes>"
      ]
     },
     "metadata": {},
     "output_type": "display_data"
    }
   ],
   "source": [
    "fig = plt.figure()\n",
    "stats.probplot(x = point_estimates, dist='norm', plot = plt)\n",
    "plt.show()"
   ]
  },
  {
   "cell_type": "markdown",
   "metadata": {},
   "source": [
    "As we can see the near line behaviour suggest that point estimates are approximately normally distributed. Supporting the Central Limit Theorem.\n",
    "\n",
    "Note we can obtain a sampling distribution using vectorized Operations, leveraging Numpy's ability to handle large arrays directly.\n",
    "\n",
    "Why is this more efficient:\n",
    "\n",
    "1) Memory Efficiency: Instead of creating a list and appending to it, we generate a single 2D array of shape to store all the samples at once. Minimizes the overhead of appending values to a list.\n",
    "2) Numpy's vectorized operations such as  samples.mean(axis=1) calculates the mean of each row(sample) in one step rather than looping though each sample individually."
   ]
  },
  {
   "cell_type": "code",
   "execution_count": 94,
   "metadata": {},
   "outputs": [
    {
     "name": "stdout",
     "output_type": "stream",
     "text": [
      "[[48 28 56 ... 62 48 40]\n",
      " [54 28 55 ... 66 30 53]\n",
      " [56 23 38 ... 58 44 51]\n",
      " [56 56 57 ... 57 29 26]\n",
      " [62 46 53 ... 27 34 60]]\n",
      "[42.378 42.668 42.938 43.178 43.374]\n"
     ]
    }
   ],
   "source": [
    "np.random.seed(10)\n",
    "samples_v = np.random.choice(a = population_ages, size = (200, 500), replace = True)\n",
    "print(samples_v[0:5])\n",
    "point_estimates_vector = samples_v.mean(axis = 1) # axis = 1 computes the mean for each row\n",
    "print(point_estimates_vector[0:5])\n",
    "\n"
   ]
  },
  {
   "cell_type": "markdown",
   "metadata": {},
   "source": [
    "\n",
    "\n",
    "\n",
    "\n",
    "\n",
    "\n",
    "\n",
    "\n",
    "\n",
    "\n",
    "\n",
    "\n",
    "\n",
    "\n",
    "\n",
    "A 'sampling distribution' is a probability distribution of all the possible values of a statistic for a given size sample selected from a population.\n",
    "\n",
    "**Standard Error of the Mean** \n",
    "Different Samples of the same size from the same population will yield different sample means.\n",
    "\n",
    "A measure of the variability in mean from sample to sample is given by the Standard Error of the Mean: which is the standard deviation of the mean values over root n. $$ \\sigma_ {\\hat x} = \\frac{\\sigma_x}{\\sqrt n} $$\n",
    "\n",
    "n.b as sample size increases the standard error of the mean decreases. "
   ]
  },
  {
   "cell_type": "markdown",
   "metadata": {},
   "source": [
    "## Confidence Intervals\n",
    "\n",
    "A point estimate can give you a rough idea of a population parameter like the mean, but estimates are prone to error and taking multiple samples to improve estimates may not be feasible. A confidence interval is a range of values above and below a point estimate that captures the true population parameter at some predetermined confidence level. For example, if you want to have a 95% chance of capturing the true population parameter with a point estimate and a corresponding confidence interval, you set your confidence level to 95%.\n",
    "\n",
    "Higher Confidence levels result in a wider confidence interval.\n",
    "\n",
    "A confidence interval provides additional information about variability. The interval takes into consideration variation in sample statistics from sample to sample. \n",
    "\n",
    "We calculate a confidence interval by taking a point estimate and then adding or subtracting a **Margin of Error** to create a range. Margin of error is based on your desired confidence level, the spread of the data and the size of your sample.\n",
    "\n",
    "The way you calculate the margin of error depends on whether you know the standard deviation of the population or not.\n",
    "\n",
    "If you know the standard deviation of the population the margin of error is equal to: $$ ME = Z_\\frac{\\alpha}{2} * \\frac{\\sigma}{\\sqrt n} $$\n",
    "\n",
    "where $\\sigma$ is the population standard deviation, n is the sample size, and z is a number known as the z critical value.\n",
    "\n",
    "The Z-critical value is the number of standard deviations you'd have to go from the mean of the normal distribution to capture the proportion of the data associated with the desired confidence level. Since we know that roughly 95% of data in a normal distribution lies within 2 std of the mean , we can use 2 as the z-critical value for a 95% confidence interval.\n",
    "\n",
    "Lets calculate a 95% confidence for our mean point."
   ]
  },
  {
   "cell_type": "code",
   "execution_count": 95,
   "metadata": {},
   "outputs": [
    {
     "name": "stdout",
     "output_type": "stream",
     "text": [
      "z-critical value : 1.959963984540054\n",
      "Confidence interval: (np.float64(41.70306406882683), np.float64(43.34293593117317))\n"
     ]
    }
   ],
   "source": [
    "np.random.seed(10)\n",
    "\n",
    "sample_size = 1000\n",
    "sample = np.random.choice(a = population_ages, size = sample_size)\n",
    "sample_mean = sample.mean()\n",
    "\n",
    "z_critical = stats.norm.ppf(q = 0.975) # distribution has two tails we want 95% of data included so use q = 0.975 to get value at each tail\n",
    "\n",
    "print(f\"z-critical value : {z_critical}\")\n",
    "\n",
    "pop_stdev = population_ages.std()\n",
    "\n",
    "margin_of_error = z_critical * (pop_stdev/ np.sqrt(sample_size))\n",
    "\n",
    "confidence_interval = (sample_mean - margin_of_error, sample_mean +margin_of_error)\n",
    "\n",
    "print(f\"Confidence interval: {confidence_interval}\")"
   ]
  },
  {
   "cell_type": "markdown",
   "metadata": {},
   "source": [
    "The confidence interval we calculated captures the true population mean which was 4.0023\n",
    "\n",
    "We say we are 95% confident that the population mean is between 41.7 and 43.342\n",
    "\n",
    "Creating several confidence intervals and plotting them shows what captured implies."
   ]
  },
  {
   "cell_type": "code",
   "execution_count": 96,
   "metadata": {},
   "outputs": [
    {
     "data": {
      "text/plain": [
       "<matplotlib.collections.LineCollection at 0x1b1f52a5250>"
      ]
     },
     "execution_count": 96,
     "metadata": {},
     "output_type": "execute_result"
    },
    {
     "data": {
      "image/png": "[encoded data removed]",
      "text/plain": [
       "<Figure size 900x900 with 1 Axes>"
      ]
     },
     "metadata": {},
     "output_type": "display_data"
    }
   ],
   "source": [
    "import math\n",
    "np.random.seed(12)\n",
    "\n",
    "sample_size = 1000\n",
    "\n",
    "intervals = []\n",
    "sample_means = []\n",
    "\n",
    "for sample in range(25):\n",
    "\n",
    "    sample = np.random.choice(a = population_ages, size = sample_size)\n",
    "    sample_mean = sample.mean()\n",
    "    sample_means.append(sample_mean)\n",
    "\n",
    "    z_critical = stats.norm.ppf(q = 0.975)\n",
    "\n",
    "    pop_stdev = population_ages.std()\n",
    "\n",
    "    margin_of_error = z_critical * (pop_stdev / math.sqrt(sample_size))\n",
    "\n",
    "    confidence_interval = (sample_mean - margin_of_error,\n",
    "                           sample_mean + margin_of_error)\n",
    "    \n",
    "    intervals.append(confidence_interval)\n",
    "\n",
    "plt.figure(figsize= (9,9))\n",
    "\n",
    "plt.errorbar(x=np.arange(0.1, 25, 1),\n",
    "             y=sample_means, \n",
    "             yerr=[(top-bot) / 2 for bot,top in intervals],\n",
    "             fmt='o')\n",
    "\n",
    "plt.hlines(xmin=0, xmax=25,\n",
    "           y=43.0023, \n",
    "           linewidth=2.0,\n",
    "           color=\"red\")"
   ]
  },
  {
   "cell_type": "markdown",
   "metadata": {},
   "source": [
    "Notice that in the plot above, all but one of the 95% confidence intervals overlap the red line marking the true mean. This is to be expected as a 95% confidence interval captures the true mean 95% of the time we'd expect our interval to miss the true mean 5% of the time."
   ]
  },
  {
   "cell_type": "markdown",
   "metadata": {},
   "source": [
    "## If we do not know the Population standard deviation.\n",
    "\n",
    "We have to use the sample standard deviation when creating the confidence intervals. Since the sample standard deviation may not match the population parameter the interval will have error when you don't know the population standard deviation.\n",
    "\n",
    "To account for this error, we use what's known as a t-critical value instead of the z-critical value from the Student's T-distribution. A distribution which closely resembles the normal distribution but that gets wider and wider as the sample size falls.\n",
    "\n",
    "Let's take a new, smaller sample and then create a confidence interval using the t-distribution.\n",
    "\n"
   ]
  },
  {
   "cell_type": "code",
   "execution_count": 97,
   "metadata": {},
   "outputs": [
    {
     "name": "stdout",
     "output_type": "stream",
     "text": [
      "t critical value : 2.0638985616280205\n",
      "Confidence interval: (np.float64(37.65147508161371), np.float64(48.108524918386294))\n"
     ]
    }
   ],
   "source": [
    "np.random.seed(10)\n",
    "\n",
    "sample_size = 25 \n",
    "sample = np.random.choice(a = population_ages, size = sample_size)\n",
    "sample_mean = sample.mean()\n",
    "\n",
    "t_critical = stats.t.ppf(q = 0.975, df = 24)  # degrees of freedom are the number of observations that are free to vary after sample mean has been calculated\n",
    "\n",
    "print(f\"t critical value : {t_critical}\")\n",
    "\n",
    "sample_stdev = sample.std(ddof = 1) # n-1 for sample\n",
    "\n",
    "margin_of_error = t_critical* (sample_stdev/ math.sqrt(sample_size))\n",
    "\n",
    "confidence_interval = (sample_mean - margin_of_error, sample_mean + margin_of_error)\n",
    "\n",
    "print(f\"Confidence interval: {confidence_interval}\")"
   ]
  },
  {
   "cell_type": "markdown",
   "metadata": {},
   "source": [
    "When using the t-distribution since the t is a family of distributions dependent on the degrees of freed. We have to specify this. As sample size becomes large the t-distribution approaches the normal distribution.\n",
    "\n",
    "The tcritical value is larger than the z-critical value we used for 95% confidence interval. This alllows the confidence interval to cast a larger net to make up for the variability caused by using the sample standard deviation,since s is variable from sample to sample. in place of the population standard deviation. The end result is a much wider confidence interval/ interval with a larger margin of error.\n",
    "\n",
    "If we have a large sample, the t-critical value will approach the z-critical value so there is little difference between using the normal distribution vs the t-distribution:"
   ]
  },
  {
   "cell_type": "code",
   "execution_count": 98,
   "metadata": {},
   "outputs": [
    {
     "data": {
      "text/plain": [
       "np.float64(0.0023774765933946007)"
      ]
     },
     "execution_count": 98,
     "metadata": {},
     "output_type": "execute_result"
    }
   ],
   "source": [
    "stats.t.ppf(q = 0.975, df = 999) - stats.norm.ppf(0.975)"
   ]
  },
  {
   "cell_type": "code",
   "execution_count": 99,
   "metadata": {},
   "outputs": [
    {
     "data": {
      "text/plain": [
       "(np.float64(37.65147508161371), np.float64(48.108524918386294))"
      ]
     },
     "execution_count": 99,
     "metadata": {},
     "output_type": "execute_result"
    }
   ],
   "source": [
    "# stats has a confidence interval function\n",
    "sigma = sample_stdev/ math.sqrt(sample_size)\n",
    "\n",
    "stats.t.interval(confidence= 0.95,             # Confidence level\n",
    "                 df= 24,                    # Degrees of freedom\n",
    "                 loc = sample_mean,         # Sample mean\n",
    "                 scale = sigma)     "
   ]
  },
  {
   "cell_type": "markdown",
   "metadata": {},
   "source": [
    "We can also make a confidence interval for a point estimate of the population proportion.\n",
    "\n",
    "in this case the Margin of error = $$ z^* \\sqrt{\\frac{p(1-p)}{n}}$$"
   ]
  },
  {
   "cell_type": "markdown",
   "metadata": {},
   "source": []
  }
 ],
 "metadata": {
  "kernelspec": {
   "display_name": "Python 3",
   "language": "python",
   "name": "python3"
  },
  "language_info": {
   "codemirror_mode": {
    "name": "ipython",
    "version": 3
   },
   "file_extension": ".py",
   "mimetype": "text/x-python",
   "name": "python",
   "nbconvert_exporter": "python",
   "pygments_lexer": "ipython3",
   "version": "3.12.4"
  }
 },
 "nbformat": 4,
 "nbformat_minor": 2
}
