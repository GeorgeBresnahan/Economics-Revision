{
 "cells": [
  {
   "cell_type": "markdown",
   "metadata": {},
   "source": [
    "n.b these are notes taken from ECO3017 Advanced Time Series Econometrics\n",
    "\n",
    "# Why do we use econometrics?\n",
    "\n",
    "We use econometrics to:\n",
    "1) model an underlying Data Generation Process\n",
    "2) foreceast variables in the near future\n",
    "3) test a hypothesis on the data\n",
    "\n",
    "**What makes a Time series**\n",
    "\n",
    "Consider a basic regression model $$y_i = \\alpha + \\beta x_i + u_i$$\n",
    "\n",
    "Where y is the dependent variable for observation i , alpha is the intercept and beta is the coefficient of the independent variable x, Ui is the error term representing the unobserved factors affecting Y.\n",
    "\n",
    "We add the ordering of time: the dependent variable becomes $y_t$ , the final time period is denoted by T capital. This is the Sample size\n",
    "\n",
    "Sampling frequency is important for a time series, where the change between values is the sampling frequency.\n",
    "\n",
    "There are two forms of time series **correlation** structures:\n",
    "\n",
    "1) Autoregressive (AR) correlation\n",
    "2) Moving Average (MA) correlation\n",
    "\n",
    "and these can appear together in a\n",
    "\n",
    "3) Autoregressive moving average ARMA correlation\n",
    "\n",
    "Notation: $\\epsilon $ is the symbol for shocks\n",
    "\n",
    "If the trend is of a deterministic nature(i.e has a stable linear time trend - where output is determined by input variables and initial conditions - lack of free will) we can include a linear trend term in our log level model.\n",
    "\n",
    "Alternatively we can difference the dependent variable and remove the linear trend in some occasions.\n",
    "\n",
    "Any behaviour where the mean is not constant through time is called trending behaviour. This is stochastic (random) as long term behaviour is unpredictable."
   ]
  },
  {
   "cell_type": "markdown",
   "metadata": {},
   "source": []
  }
 ],
 "metadata": {
  "language_info": {
   "name": "python"
  }
 },
 "nbformat": 4,
 "nbformat_minor": 2
}
