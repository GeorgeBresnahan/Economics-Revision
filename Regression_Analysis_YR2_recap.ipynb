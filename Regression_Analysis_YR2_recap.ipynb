{
 "cells": [
  {
   "cell_type": "markdown",
   "metadata": {},
   "source": [
    "## OLS - Ordinary Least Squares\n",
    "\n",
    "OLS regression analysis is the study of the dependance of one variable on one or more other explanatory independent variables, with a view to estimate the mean values of Y in terms of fixed values of X."
   ]
  },
  {
   "cell_type": "markdown",
   "metadata": {},
   "source": [
    "### Means\n",
    "\n",
    "Conditional Mean - Average value for y for each fixed value of x\n",
    "\n",
    "Unconditional Mean - Overall average of the whole population\n",
    "\n",
    "The conditional mean provides better information concerning average Y compared to uncoditional"
   ]
  },
  {
   "cell_type": "markdown",
   "metadata": {},
   "source": [
    "## Useful Aside\n",
    "\n",
    "**Hypothesis Testing**\n",
    "\n",
    "Taken from Year 1 Statistics for Ecomomics lecture notes.\n",
    "\n",
    "The hypothesis that we are testing is called the null hypothesis and is generally denoted by $H_0$\n",
    "\n",
    "The null hypothesis is tested against the alternative hypothesis, denoted by $H_1$\n",
    "\n",
    "one sided hypothesis  $$H_0: \\mu = 10 \\ H_1: \\mu > 10 $$\n",
    "\n",
    "Two sided hypothesis $$ H_0: \\mu = 10 \\ H_1: \\mu \\not\\equiv 10$$\n",
    "\n",
    "If the mean of the sampling distribution of a statistic is equal to the true value of the parameter being estimated, the statistic is an unbiased estimator of the parameter.\n",
    "\n",
    "The sample mean x bar is an unbiased estimator of the population mean $\\mu$\n",
    "\n",
    "Say the null hypothesis suggest that the population mean is 10, how far from 10 must our sample mean x bar be in order to suggest we reject $\\mu = 10$ \n",
    "\n",
    "The test statistic for $\\mu = \\mu _0$ with unknown $\\sigma$ standard deviation is given by the t test statistic which is $$ t = \\frac{\\bar{x} - \\mu_0}{\\frac{s_x}{\\sqrt{n}}}$$\n",
    "\n",
    "where t = test statistic, x bar = sample mean mu_0 = theoretical population mean s_x = standard deviation n = number of observation and is ditributed as students t distribution with n-1 degrees of freedom.\n",
    "\n",
    "when x is a large distance from the null hypothesis's value, the area under the probability density curve is relatively small. When x is a small distance from the null hypothesis the area further away is relatively large. So the area under the curve can be used to help determine wether or not to reject the hypothesised mean value.\n",
    "\n",
    "The area beyond the sample mean x bar is called the p-value. \n",
    "\n",
    "It is the probability assuming h_0 is true that our sample mean would have obtained a value at least as extreme as the observed value. \n",
    "\n",
    "Or reworded for clarity \"A p-value is the probability of observing results at least as extreme as the current data, assuming the null hypothesis is true\"\n",
    "\n",
    "A small p-value suggests that either the null hypothesis is false or a very unusual event has occured. \n",
    "\n",
    "suppose we have a p value of 0.01 and we have observed a sample mean x bar of 13.2 with a theorised population mean of 10.\n",
    "\n",
    "Mathematically p-value is calculated using integral calculus from the area under a probability distribution curve.\n",
    "\n",
    "If the true mean is indeed 10, there is only 1% chance for us to observe 13.2 or more. If we reject that the true mean is 10 we will be wrong in 1 out of 100 times, and correct 99 out of 100 times.\n",
    "\n",
    "P=value is calculated under the assumption H_0 is true, p-value is not the probability that the H_0 is true. As such a p-value of 1% does not give us 99% confidence. P-value indicates how incompatible our data is given, the null hypothesis.\n",
    "\n",
    "A p-value less than 0.05 is typically considered to be statistically significant, in which case the null hypothesis should be rejected. A p-value greater than 0.05 means that deviation from the null is not statistically significant, and we cannot reject the null. \n",
    "\n",
    "\n"
   ]
  },
  {
   "cell_type": "markdown",
   "metadata": {},
   "source": [
    "**T-Tests**\n",
    "\n",
    "Normality of the error terms in a regression allows us to use the t-distribution for inference about model parameters. \n",
    "\n",
    "Central Limit Theorem assures us that the sampling distribution of our coefficients are also normal. This normality allows us to apply the t-distribution and conduct hypothesis tests and confidence intervals. If errors are normally distributed than the distribution of our coefficient sample estimate - its true value pop mean divided by its standard error follows a t-distribution.\n",
    "\n",
    "We use a t-test to check wether there is a statistically significant linear relationship between our dependent and explanatory variables. \n",
    "\n",
    "We use a two sided hypothesis:$$\n",
    "\n",
    "$$\n",
    "H_0: \\beta_j = 0 \\quad \\text{(no linear relationship)}, \\quad H_1: \\beta_j \\neq 0 \\quad \\text{(linear relationship exists between } x_j \\text{ and } y)\n",
    "$$\n",
    "\n",
    "The test statistic for this hypothesis is given by:\n",
    "\n",
    "$$\n",
    "t = \\frac{\\hat{\\beta}_j - \\beta_j}{\\text{se}(\\hat{\\beta}_j)} \\quad \\text{with degrees of freedom } (n - k - 1)\n",
    "$$\n",
    "\n",
    "where:\n",
    "- $ \\hat{\\beta}_j $ is the estimated coefficient,\n",
    "- $ \\beta_j $ is the true coefficient value under the null hypothesis,\n",
    "- $ \\text{se}(\\hat{\\beta}_j) $ is the standard error of the estimate $ \\hat{\\beta}_j $,\n",
    "- $ n $ is the number of observations, and\n",
    "- $ k $ is the number of predictors.\n",
    "\n",
    "The farther the estimated coefficient is away from zero, the less likely it is the null hypothesis holds true. \n",
    "\n",
    "However this depends on the variability of the estimated coefficient its standard deviation as the standard error is calculated using the standard deviation.\n",
    "\n",
    "The t-statistic measures how many estimated standard deviations the estimated coefficient is away from zero. If the test statistic falls in the rejection region or has a p-value less than 0.05 we reject the null hypothesis and say there is evidence for a linear relationship between variables. "
   ]
  },
  {
   "cell_type": "markdown",
   "metadata": {},
   "source": [
    "## Population regression line\n",
    "\n",
    "If we draw a line through the conditional means we obtain the Population regression line.\n",
    "\n",
    "However we do not know the entire population, therefore we make an assumption about the population regression line, we assume it is a linear function.\n",
    "\n",
    "Of the form:\n",
    "\n",
    "$$\n",
    "     E(Y|X_i) =  \\beta _0 + \\beta _1X_I \n",
    "$$\n",
    "\n",
    "where  $\\beta_0$ is the intercept and $\\beta_1$ is the slope coefficient.\n",
    "\n",
    "N.B not all individuals lie on the regression line , we denote each individuals Y value as $ Y_i $\n",
    "\n",
    "The population regression function is :\n",
    "\n",
    "$$ Y_i = \\beta _0 + \\beta _1 + u_i$$\n",
    "\n",
    "The regression funciton is made up of both deterministic and stochastic components\n",
    "\n",
    "Deterministic : $ E(Y|X_i) or \\beta _0 + \\beta_1 $ which are determined/explained by the model\n",
    "\n",
    "Stochastic : $U_i$ the error term which is unknown not explained by the regression line. The error term containes omitted variables, errors in measuring variables and the randomness of human behaviour.\n",
    "\n",
    "Importantly, we can never get the true full populations data so instead we rely on samples(subsets of the population)\n",
    "\n",
    "OLS gives us a sample regression line where $\\beta\\hat{}$ is an estimate for each coefficient.\n",
    "\n",
    "The sample regression line is an estimate of the population regression line. Therefore we want the estimated value for each variable to be as close to the true value as possible. The way in which we derive these coefficients is OLS which minimises the sum of the squared residuals meaning we have accurate estimates with respect to key parameters. \n"
   ]
  },
  {
   "cell_type": "markdown",
   "metadata": {},
   "source": [
    "# Gaussian / Classical assumptions\n",
    "\n",
    "If Gaussian / Classical assumptions hold true the OLS estimators are BLUE- Best linear unbiased estimators\n",
    "\n",
    "If they are BLUE estimators teh sample regression line is a good estimate of the Population Regression Line.\n",
    "\n",
    "## Assumptions:\n",
    "\n",
    "1) The model is Linear in parameters\n",
    "2) Explanatory Variables $X_i$ are uncorrelated with the error term $U_i$ \n",
    "3) There is zero mean value of the error term i.e $$ E(U_i|X_i) = 0 $$ the average value of error does not depend on X \n",
    "4) Homoscedasticity - there is constant variance of the error term the variance of the error terms for each given value of X are the same i.e $$ Var(U_i|X_i) = \\sigma ^2$$\n",
    "\n",
    "5) There is no autocorrelation between the error terms : $$ COV(U_i | U_j)\\ for\\ i\\not\\equiv j $$ This means that the error terms are not related, if this is not held there is some relationship between error terms.\n",
    "\n",
    "\n",
    "6) Regression model is correctly specified - no irrelevant or ommited variable \n",
    "7) No perfect multicollinearity - there is no perfect linear relationship between explanatory variables."
   ]
  },
  {
   "cell_type": "markdown",
   "metadata": {},
   "source": [
    "# Gauss-Markov Theorem\n",
    "\n",
    "Given the assumptions of the classical linear regression model the OLS estimators will be Best Linear Unbiased Estimators\n",
    "\n",
    "## Sampling distributions\n",
    "\n",
    "Sampling distributions of the OLS estimator is $ \\beta \\hat{} $ is the distribution of values taken by beta in repeated samples. For each sample we use an OLS estimated of beta and we obtain a sampling distribution for beta.\n",
    "\n",
    "Estimators are chosen because their sampling distributions have certain properties.\n",
    "\n",
    "- Unbiased:\n",
    "The mean of the sampling distribution is equal to the true population value : $$ E[\\beta \\hat {}] = \\beta$$\n",
    "- Efficient: \n",
    "The unbiased estimator has the smallest variance $$ var[\\beta \\hat{}] < var[\\beta^*] $$ where beta star is an alternative estimator\n",
    "\n",
    "A BLUE Best linear unbiased estimator is a linear estimator that is unbiased and has minimum variance over all other estimators\n",
    "\n",
    "OLS is blue if classical assumptions hold. This is the Gauss Markov Theorem.\n",
    "\n",
    "Now I will run an regression and analyse it:"
   ]
  },
  {
   "cell_type": "code",
   "execution_count": 127,
   "metadata": {},
   "outputs": [],
   "source": [
    "import pandas as pd\n",
    "import statsmodels.api as sm\n",
    "import statsmodels.formula.api as smf\n",
    "from IPython import display\n",
    "import matplotlib.pyplot as plt\n"
   ]
  },
  {
   "cell_type": "code",
   "execution_count": 128,
   "metadata": {},
   "outputs": [],
   "source": [
    "pd.set_option('display.float_format', '{:,.3g}'.format)"
   ]
  },
  {
   "cell_type": "markdown",
   "metadata": {},
   "source": [
    "Lets obtain economic data to run a regression. In this case we will assess United States Macroeconomic data 1959 - 2009 from the statsmodels dataset module."
   ]
  },
  {
   "cell_type": "code",
   "execution_count": 129,
   "metadata": {},
   "outputs": [],
   "source": [
    "data = sm.datasets.macrodata.load()\n",
    "dataset = data.data"
   ]
  },
  {
   "cell_type": "code",
   "execution_count": 130,
   "metadata": {},
   "outputs": [
    {
     "data": {
      "text/plain": [
       "pandas.core.frame.DataFrame"
      ]
     },
     "execution_count": 130,
     "metadata": {},
     "output_type": "execute_result"
    }
   ],
   "source": [
    "type(dataset)"
   ]
  },
  {
   "cell_type": "code",
   "execution_count": 131,
   "metadata": {},
   "outputs": [
    {
     "data": {
      "text/plain": [
       "RangeIndex(start=0, stop=203, step=1)"
      ]
     },
     "execution_count": 131,
     "metadata": {},
     "output_type": "execute_result"
    }
   ],
   "source": [
    "dataset.index"
   ]
  },
  {
   "cell_type": "code",
   "execution_count": 132,
   "metadata": {},
   "outputs": [
    {
     "data": {
      "text/plain": [
       "np.int64(0)"
      ]
     },
     "execution_count": 132,
     "metadata": {},
     "output_type": "execute_result"
    }
   ],
   "source": [
    "dataset['year'] = dataset['year'].astype(int)\n",
    "dataset['quarter'] = dataset['quarter'].astype(int)\n",
    "index = pd.PeriodIndex.from_fields(year = dataset['year'], quarter = dataset['quarter'], freq='Q-DEC') #pg. 386 pandas\n",
    "dataset.index = index\n",
    "dataset.drop(columns = ['year', 'quarter'], inplace = True)\n",
    "dataset.isna().sum().sum()\n"
   ]
  },
  {
   "cell_type": "code",
   "execution_count": 133,
   "metadata": {},
   "outputs": [
    {
     "data": {
      "text/html": [
       "<div>\n",
       "<style scoped>\n",
       "    .dataframe tbody tr th:only-of-type {\n",
       "        vertical-align: middle;\n",
       "    }\n",
       "\n",
       "    .dataframe tbody tr th {\n",
       "        vertical-align: top;\n",
       "    }\n",
       "\n",
       "    .dataframe thead th {\n",
       "        text-align: right;\n",
       "    }\n",
       "</style>\n",
       "<table border=\"1\" class=\"dataframe\">\n",
       "  <thead>\n",
       "    <tr style=\"text-align: right;\">\n",
       "      <th></th>\n",
       "      <th>realgdp</th>\n",
       "      <th>realcons</th>\n",
       "      <th>realinv</th>\n",
       "      <th>realgovt</th>\n",
       "      <th>realdpi</th>\n",
       "      <th>cpi</th>\n",
       "      <th>m1</th>\n",
       "      <th>tbilrate</th>\n",
       "      <th>unemp</th>\n",
       "      <th>pop</th>\n",
       "      <th>infl</th>\n",
       "      <th>realint</th>\n",
       "    </tr>\n",
       "  </thead>\n",
       "  <tbody>\n",
       "    <tr>\n",
       "      <th>count</th>\n",
       "      <td>203</td>\n",
       "      <td>203</td>\n",
       "      <td>203</td>\n",
       "      <td>203</td>\n",
       "      <td>203</td>\n",
       "      <td>203</td>\n",
       "      <td>203</td>\n",
       "      <td>203</td>\n",
       "      <td>203</td>\n",
       "      <td>203</td>\n",
       "      <td>203</td>\n",
       "      <td>203</td>\n",
       "    </tr>\n",
       "    <tr>\n",
       "      <th>mean</th>\n",
       "      <td>7.22e+03</td>\n",
       "      <td>4.83e+03</td>\n",
       "      <td>1.01e+03</td>\n",
       "      <td>663</td>\n",
       "      <td>5.31e+03</td>\n",
       "      <td>105</td>\n",
       "      <td>668</td>\n",
       "      <td>5.31</td>\n",
       "      <td>5.88</td>\n",
       "      <td>240</td>\n",
       "      <td>3.96</td>\n",
       "      <td>1.34</td>\n",
       "    </tr>\n",
       "    <tr>\n",
       "      <th>std</th>\n",
       "      <td>3.21e+03</td>\n",
       "      <td>2.31e+03</td>\n",
       "      <td>585</td>\n",
       "      <td>141</td>\n",
       "      <td>2.42e+03</td>\n",
       "      <td>61.3</td>\n",
       "      <td>455</td>\n",
       "      <td>2.8</td>\n",
       "      <td>1.46</td>\n",
       "      <td>37.4</td>\n",
       "      <td>3.25</td>\n",
       "      <td>2.67</td>\n",
       "    </tr>\n",
       "    <tr>\n",
       "      <th>min</th>\n",
       "      <td>2.71e+03</td>\n",
       "      <td>1.71e+03</td>\n",
       "      <td>260</td>\n",
       "      <td>460</td>\n",
       "      <td>1.89e+03</td>\n",
       "      <td>29</td>\n",
       "      <td>140</td>\n",
       "      <td>0.12</td>\n",
       "      <td>3.4</td>\n",
       "      <td>177</td>\n",
       "      <td>-8.79</td>\n",
       "      <td>-6.79</td>\n",
       "    </tr>\n",
       "    <tr>\n",
       "      <th>25%</th>\n",
       "      <td>4.44e+03</td>\n",
       "      <td>2.87e+03</td>\n",
       "      <td>519</td>\n",
       "      <td>528</td>\n",
       "      <td>3.28e+03</td>\n",
       "      <td>41</td>\n",
       "      <td>229</td>\n",
       "      <td>3.51</td>\n",
       "      <td>4.9</td>\n",
       "      <td>209</td>\n",
       "      <td>2.27</td>\n",
       "      <td>-0.085</td>\n",
       "    </tr>\n",
       "    <tr>\n",
       "      <th>50%</th>\n",
       "      <td>6.56e+03</td>\n",
       "      <td>4.3e+03</td>\n",
       "      <td>896</td>\n",
       "      <td>662</td>\n",
       "      <td>4.96e+03</td>\n",
       "      <td>104</td>\n",
       "      <td>541</td>\n",
       "      <td>5.01</td>\n",
       "      <td>5.7</td>\n",
       "      <td>236</td>\n",
       "      <td>3.24</td>\n",
       "      <td>1.34</td>\n",
       "    </tr>\n",
       "    <tr>\n",
       "      <th>75%</th>\n",
       "      <td>9.63e+03</td>\n",
       "      <td>6.4e+03</td>\n",
       "      <td>1.44e+03</td>\n",
       "      <td>773</td>\n",
       "      <td>6.98e+03</td>\n",
       "      <td>160</td>\n",
       "      <td>1.1e+03</td>\n",
       "      <td>6.67</td>\n",
       "      <td>6.8</td>\n",
       "      <td>272</td>\n",
       "      <td>4.97</td>\n",
       "      <td>2.63</td>\n",
       "    </tr>\n",
       "    <tr>\n",
       "      <th>max</th>\n",
       "      <td>1.34e+04</td>\n",
       "      <td>9.36e+03</td>\n",
       "      <td>2.26e+03</td>\n",
       "      <td>1.04e+03</td>\n",
       "      <td>1.01e+04</td>\n",
       "      <td>219</td>\n",
       "      <td>1.67e+03</td>\n",
       "      <td>15.3</td>\n",
       "      <td>10.7</td>\n",
       "      <td>308</td>\n",
       "      <td>14.6</td>\n",
       "      <td>10.9</td>\n",
       "    </tr>\n",
       "  </tbody>\n",
       "</table>\n",
       "</div>"
      ],
      "text/plain": [
       "       realgdp  realcons  realinv  realgovt  realdpi  cpi       m1  tbilrate  \\\n",
       "count      203       203      203       203      203  203      203       203   \n",
       "mean  7.22e+03  4.83e+03 1.01e+03       663 5.31e+03  105      668      5.31   \n",
       "std   3.21e+03  2.31e+03      585       141 2.42e+03 61.3      455       2.8   \n",
       "min   2.71e+03  1.71e+03      260       460 1.89e+03   29      140      0.12   \n",
       "25%   4.44e+03  2.87e+03      519       528 3.28e+03   41      229      3.51   \n",
       "50%   6.56e+03   4.3e+03      896       662 4.96e+03  104      541      5.01   \n",
       "75%   9.63e+03   6.4e+03 1.44e+03       773 6.98e+03  160  1.1e+03      6.67   \n",
       "max   1.34e+04  9.36e+03 2.26e+03  1.04e+03 1.01e+04  219 1.67e+03      15.3   \n",
       "\n",
       "       unemp  pop  infl  realint  \n",
       "count    203  203   203      203  \n",
       "mean    5.88  240  3.96     1.34  \n",
       "std     1.46 37.4  3.25     2.67  \n",
       "min      3.4  177 -8.79    -6.79  \n",
       "25%      4.9  209  2.27   -0.085  \n",
       "50%      5.7  236  3.24     1.34  \n",
       "75%      6.8  272  4.97     2.63  \n",
       "max     10.7  308  14.6     10.9  "
      ]
     },
     "execution_count": 133,
     "metadata": {},
     "output_type": "execute_result"
    }
   ],
   "source": [
    "dataset.describe()"
   ]
  },
  {
   "cell_type": "markdown",
   "metadata": {},
   "source": [
    "Now that the data has been cleaned, we can run a regression. N.b initially we will only run the regression with the first 4 columns as explanatory variables."
   ]
  },
  {
   "cell_type": "code",
   "execution_count": 134,
   "metadata": {},
   "outputs": [
    {
     "name": "stdout",
     "output_type": "stream",
     "text": [
      "                            OLS Regression Results                            \n",
      "==============================================================================\n",
      "Dep. Variable:                realgdp   R-squared:                       0.999\n",
      "Model:                            OLS   Adj. R-squared:                  0.999\n",
      "Method:                 Least Squares   F-statistic:                 5.445e+04\n",
      "Date:                Fri, 08 Nov 2024   Prob (F-statistic):          7.33e-300\n",
      "Time:                        14:34:17   Log-Likelihood:                -1216.0\n",
      "No. Observations:                 203   AIC:                             2442.\n",
      "Df Residuals:                     198   BIC:                             2459.\n",
      "Df Model:                           4                                         \n",
      "Covariance Type:            nonrobust                                         \n",
      "==============================================================================\n",
      "                 coef    std err          t      P>|t|      [0.025      0.975]\n",
      "------------------------------------------------------------------------------\n",
      "const        293.5169     49.868      5.886      0.000     195.176     391.858\n",
      "realcons       0.3919      0.088      4.460      0.000       0.219       0.565\n",
      "realinv        0.6142      0.070      8.753      0.000       0.476       0.753\n",
      "realgovt       0.3212      0.117      2.736      0.007       0.090       0.553\n",
      "realdpi        0.7911      0.074     10.693      0.000       0.645       0.937\n",
      "==============================================================================\n",
      "Omnibus:                        6.324   Durbin-Watson:                   0.203\n",
      "Prob(Omnibus):                  0.042   Jarque-Bera (JB):                4.335\n",
      "Skew:                           0.212   Prob(JB):                        0.114\n",
      "Kurtosis:                       2.422   Cond. No.                     5.83e+04\n",
      "==============================================================================\n",
      "\n",
      "Notes:\n",
      "[1] Standard Errors assume that the covariance matrix of the errors is correctly specified.\n",
      "[2] The condition number is large, 5.83e+04. This might indicate that there are\n",
      "strong multicollinearity or other numerical problems.\n",
      "           sum_sq  df    F   PR(>F)\n",
      "realcons 1.91e+05   1 19.9 1.37e-05\n",
      "realinv  7.34e+05   1 76.6 9.17e-16\n",
      "realgovt 7.17e+04   1 7.49  0.00678\n",
      "realdpi   1.1e+06   1  114 2.34e-21\n",
      "Residual  1.9e+06 198  NaN      NaN\n"
     ]
    }
   ],
   "source": [
    "from statsmodels.formula.api import ols\n",
    "\n",
    "#OLS Regression\n",
    "Y = dataset['realgdp']\n",
    "X = dataset.iloc[:,1:5]\n",
    "X0 = sm.add_constant(X)\n",
    "model = sm.OLS(Y,X0)\n",
    "results = model.fit()\n",
    "print(results.summary())\n",
    "\n",
    "#ANOVA Table\n",
    "linear_reg_model = ols('realgdp ~ realcons + realinv + realgovt + realdpi', data = dataset).fit()\n",
    "anova_table = sm.stats.anova_lm(linear_reg_model, typ = 2) # multiple regression anova\n",
    "print(anova_table)"
   ]
  },
  {
   "cell_type": "markdown",
   "metadata": {},
   "source": [
    "## Interpretation\n",
    "\n",
    "### OLS Regression Results\n",
    "\n",
    "This results return the regression equation $$ realgdp = 293.5169 + 0.3919\\ realcons + 0.6142\\ realinv + 0.3212\\ realgovt + 0.7911\\ realdpi + U$$\n",
    "\n",
    "\n",
    "Starting with the Goodness of Fit Statistics:\n",
    "\n",
    "**R-Squared** - R squared is the proportion of the Total sum of squares explained by the regression model. It can also be considered as teh total variation in Y explained by the regression model. It is calculated by the ratio $$ ESS/TSS $$\n",
    "\n",
    "\n",
    "\n",
    "![alternative text](https://media.licdn.com/dms/image/v2/C5112AQF8x8kxwOF4wA/article-inline_image-shrink_1000_1488/article-inline_image-shrink_1000_1488/0/1570956802843?e=1733356800&v=beta&t=P6YOBTSU0FE2F0A5NiEuyFb1zEXf8veGEzCz9uv435A)\n",
    "\n",
    "\n",
    "The R squared in our regression is 0.999 which means that 99.9% of variance of the dependent variable is explained by the independent variables\n",
    "\n",
    "**Adjusted R-Squared**\n",
    "When we increase the number of variables R-Squared will increase as TSS stays the same but ESS increases with added variables. This means that when we compare models with different numbers of explanatory variables R Squared is not useful. Therefore we use the adjusted R Square which accounts for the number of parameters.\n",
    "\n",
    "n.b a parameter in a regression is a variable that describes the relationship between a predictor variable and a response variable. A parameter is a value that can vary from one context to another. \n",
    "\n",
    "In our case the Adjusted R squared value  is 99.99% which implies the model fits the data very well.\n",
    "\n",
    "**F-Test**\n",
    "\n",
    "The F statistic is a test of significance of the model similar to a t test.\n",
    "\n",
    "Aside:\n",
    "\n",
    "The **P-value** is the area beyond the sample mean. It is the probability, assuming H_0 is true, that our sample mean would have obtained a value at least as extreme as the observed value. A small p=value suggests that either the null hypothesis is false or a very unusual event has occured.\n",
    "\n",
    "The null hypothesis for the f-test for overall significance of the model is that all coefficients are equal to zero, implying no linear relationship. The alternative is that at least one independent variable affects Y and at least one coefficient is not equal to zero. \n",
    "\n",
    "In the case of our model The p-value is less than 0.05 and so we reject H_O, there is evidence that at least one independent variable affects Y.\n",
    "\n",
    "**DF of residuals** We have n-k-1 degrees of freedom in our residuals as there are 203 observations 4 parameters and 1 mean which are not allowed to vary.\n",
    "\n",
    "**DF of model** we have 4 coefficients which are free to vary\n",
    "\n",
    "**Covariance Type**\n",
    "\n",
    "Non robust - indicates that the standard errors for the coefficients are based on the assumptions of homoscedasticity and no multicollinearity or autocorrelation.\n"
   ]
  },
  {
   "cell_type": "markdown",
   "metadata": {},
   "source": [
    "## Coefficient Estimates\n",
    "\n",
    "We see that for all explanatory variables the P-values are less than 0.05 meaning that there is a statistically significant relationship between all explanatory variables and the dependant variable RealGDP.\n",
    "\n",
    "We also have a statistically significant constant/ intercept term.\n",
    "\n",
    "Since all explanatory values are not transformed we can interpret the coefficients directly.\n",
    "\n",
    "$\\beta_1$ = 0.3919 This means that for each unit increase in real consumer spending RGDP will increase by about 0.39 units holding other factors constant. \n",
    "\n",
    "$\\beta_2$ = 0.6142 For a unit increase in real investment RGDP will increase by 0.6142\n",
    "\n",
    "$\\beta_3$ = 0.3212 for a unit increase in real government spending RGDP will increase by 0.32 units\n",
    "\n",
    "$\\beta_4$ = 0.79 for a unit increase in real disposable income RGDP will increase by 0.79 units. \n",
    "\n",
    "These values seem very high, before we assess the theoretical reason for this, we will look at model diagnostics.\n",
    "\n"
   ]
  },
  {
   "cell_type": "markdown",
   "metadata": {},
   "source": [
    "## Model Diagnostics\n",
    "\n",
    "The Durbin watson test is for Residual Autocorrelation. If there is autocorrelation present this means that $$Cov(U_i, U_j) != 0 \\ \\ \\     for \\ i\\not\\equiv j$$\n",
    "\n",
    "This would mean that ther is a relationship between the error terms and you can predict residuals from past residuals. \n",
    "\n",
    "From Baltagi (2021) the implication of this is that the correlation between error terms introduces a covariance term in the variance of OLS estimators. This means that any inference based on this variance is misleading.\n",
    "\n",
    "The value of 0.203 indicates strong residual autocorrelation. Which is a violation of Gauss Markov theorem. \n",
    "\n",
    "This can be viewed graphically. "
   ]
  },
  {
   "cell_type": "code",
   "execution_count": 135,
   "metadata": {},
   "outputs": [
    {
     "data": {
      "image/png": "[encoded data removed]",
      "text/plain": [
       "<Figure size 1000x600 with 1 Axes>"
      ]
     },
     "metadata": {},
     "output_type": "display_data"
    }
   ],
   "source": [
    "resid = linear_reg_model.resid\n",
    "resid.index = resid.index.to_timestamp()\n",
    "plt.figure(figsize=(10, 6))\n",
    "plt.scatter(resid.index, resid)\n",
    "plt.title('Residuals Over Time')\n",
    "plt.xlabel('Time (Quarterly)')\n",
    "plt.ylabel('Residuals')\n",
    "plt.xticks(rotation=45)  # Rotate labels for readability\n",
    "plt.show()"
   ]
  },
  {
   "cell_type": "markdown",
   "metadata": {},
   "source": [
    "We can see a curved pattern to the residuals implying that there is a non-linear relationship to the residuals. This is a violation of OLS assumptions which means that regression parameters are spurious and lead to incorrect inferences.\n",
    "\n",
    "The Regression Summary Table describes that there multicollinearity between the explanatory variables.\n",
    "\n",
    "**Multicollinearity** is where there is a linear relationship between explanatory variables. Which means that coefficients do not purely explain the effect on the dependant variable but also the effect of variables on each other. \n",
    "\n",
    "By construct using keynesian consumption theory we know that aggregate consumption is dependent on real disposable aggregate income. Meaning that there is perfect Multicollinearity between explanatory variables. \n",
    "\n",
    "Removing real disposable income from the regression we have a look at our regression results."
   ]
  },
  {
   "cell_type": "code",
   "execution_count": 136,
   "metadata": {},
   "outputs": [
    {
     "name": "stdout",
     "output_type": "stream",
     "text": [
      "                            OLS Regression Results                            \n",
      "==============================================================================\n",
      "Dep. Variable:                realgdp   R-squared:                       0.999\n",
      "Model:                            OLS   Adj. R-squared:                  0.999\n",
      "Method:                 Least Squares   F-statistic:                 4.623e+04\n",
      "Date:                Fri, 08 Nov 2024   Prob (F-statistic):          1.24e-282\n",
      "Time:                        14:34:17   Log-Likelihood:                -1262.3\n",
      "No. Observations:                 203   AIC:                             2533.\n",
      "Df Residuals:                     199   BIC:                             2546.\n",
      "Df Model:                           3                                         \n",
      "Covariance Type:            nonrobust                                         \n",
      "==============================================================================\n",
      "                 coef    std err          t      P>|t|      [0.025      0.975]\n",
      "------------------------------------------------------------------------------\n",
      "const        511.9703     56.992      8.983      0.000     399.584     624.356\n",
      "realcons       1.3072      0.025     52.554      0.000       1.258       1.356\n",
      "realgovt       0.1511      0.146      1.037      0.301      -0.136       0.438\n",
      "realinv        0.2974      0.080      3.732      0.000       0.140       0.455\n",
      "==============================================================================\n",
      "Omnibus:                       12.617   Durbin-Watson:                   0.081\n",
      "Prob(Omnibus):                  0.002   Jarque-Bera (JB):                5.155\n",
      "Skew:                           0.044   Prob(JB):                       0.0760\n",
      "Kurtosis:                       2.224   Cond. No.                     3.65e+04\n",
      "==============================================================================\n",
      "\n",
      "Notes:\n",
      "[1] Standard Errors assume that the covariance matrix of the errors is correctly specified.\n",
      "[2] The condition number is large, 3.65e+04. This might indicate that there are\n",
      "strong multicollinearity or other numerical problems.\n"
     ]
    }
   ],
   "source": [
    "reg1_Y = dataset['realgdp']\n",
    "reg1_X = dataset[['realcons', 'realgovt', 'realinv']]\n",
    "reg1_X0 = sm.add_constant(reg1_X)\n",
    "reg1 = sm.OLS(reg1_Y,reg1_X0)\n",
    "results_reg1 = reg1.fit()\n",
    "print(results_reg1.summary())"
   ]
  },
  {
   "cell_type": "code",
   "execution_count": 137,
   "metadata": {},
   "outputs": [
    {
     "name": "stdout",
     "output_type": "stream",
     "text": [
      "          realcons  realgovt  realinv\n",
      "realcons         1     0.871    0.976\n",
      "realgovt     0.871         1    0.795\n",
      "realinv      0.976     0.795        1\n"
     ]
    }
   ],
   "source": [
    "correlation_matrix = reg1_X.corr()\n",
    "print(correlation_matrix)\n"
   ]
  },
  {
   "cell_type": "markdown",
   "metadata": {},
   "source": [
    "From assessing the correlation matrix we can see that real consumption is highly correlated with real government expenditure and real investment.\n",
    "\n",
    "## Taken from KAGGLE notebook\n",
    "\n",
    "To further measure the amount of multicollinearity in regression analysis we can use the Variance inflation factor. The VIF is a measure of the amount of multicollinearity in regression analysis. VIF is used to identify the correaltion of one independent variable with a group of other variables. \n",
    "$$ VIF_i = 1 / (1-R^2_i)$$\n",
    "\n",
    "In regression analysis, multicollinearity exists when two or more of the variables demonstrate a linear relationship between them. The VIF measures by how much the linear correlation of a given regressor with the other regressors increases **the variance of its coefficient estimate**  with respect to the baseline case of no correlation. \n",
    "\n",
    "A VIF of 10 indicates that the existing multicollinearity is inflating the variance of the coefficients by 10 times compared to no multicollinearity model. \n",
    "\n",
    "VIF of 5 is often taken as the threshold. Meaning that any independent variable greater than 5 will have to be removed. \n",
    "\n",
    "There are two kinds of multicollinearity:\n",
    "\n",
    "1) Data-based multicollinearity: this type of multicollinearity is present in the data itself. Observational experiments are more likely to exhibit this kind of multicollinearity.  Example two almost identical variables, weight in lbs and weight in kg.\n",
    "\n",
    "2) Structural multicollinearity: caused by the research creating new predictor variables. This type occurs when we create a model term using other terms, a byproduct of the model that we specify. This occurs when we include a variable in a regression that is actually a combination of two other variables. For example Total investment income = income from stocks and bonds + income from savings interest.\n",
    "\n",
    "Checking for multicollinearity using VIF"
   ]
  },
  {
   "cell_type": "code",
   "execution_count": 138,
   "metadata": {},
   "outputs": [
    {
     "name": "stdout",
     "output_type": "stream",
     "text": [
      "  Explanatory variable  VIF\n",
      "0             realcons  187\n",
      "1             realgovt 22.2\n",
      "2              realinv  107\n"
     ]
    }
   ],
   "source": [
    "from statsmodels.stats.outliers_influence import variance_inflation_factor\n",
    "\n",
    "vif_data = pd.DataFrame()\n",
    "vif_data[\"Explanatory variable\"] = reg1_X.columns\n",
    "vif_data[\"VIF\"] = [variance_inflation_factor(reg1_X.values, i) for i in range(reg1_X.shape[1])]\n",
    "print(vif_data)\n"
   ]
  },
  {
   "cell_type": "markdown",
   "metadata": {},
   "source": [
    "Lets start again with all the columns in our dataset and drop one by one. Sometimes multicollinearity is solved by increasing the number of observations."
   ]
  },
  {
   "cell_type": "code",
   "execution_count": 139,
   "metadata": {},
   "outputs": [
    {
     "name": "stdout",
     "output_type": "stream",
     "text": [
      "   Explanatory Variables      VIF\n",
      "0               realcons 9.18e+03\n",
      "1                realinv      328\n",
      "2               realgovt      172\n",
      "3                realdpi 8.85e+03\n",
      "4                    cpi      732\n",
      "5                     m1      367\n",
      "6               tbilrate      978\n",
      "7                  unemp     55.7\n",
      "8                    pop      349\n",
      "9                   infl      696\n",
      "10               realint      235\n"
     ]
    }
   ],
   "source": [
    "x_all = dataset.iloc[:,1:]\n",
    "vif_all = pd.DataFrame()\n",
    "vif_all['Explanatory Variables'] = x_all.columns\n",
    "vif_all[\"VIF\"] = [variance_inflation_factor(x_all.values, i) for i in range(len(x_all.columns))]\n",
    "print(vif_all)"
   ]
  },
  {
   "cell_type": "markdown",
   "metadata": {},
   "source": []
  },
  {
   "cell_type": "markdown",
   "metadata": {},
   "source": [
    "Lets start by removing the highest VIF value regressor: realdpi"
   ]
  },
  {
   "cell_type": "code",
   "execution_count": 140,
   "metadata": {},
   "outputs": [
    {
     "name": "stdout",
     "output_type": "stream",
     "text": [
      "   Explanatory Variables      VIF\n",
      "0               realcons 9.18e+03\n",
      "1                realinv      328\n",
      "2               realgovt      172\n",
      "3                realdpi 8.85e+03\n",
      "4                    cpi      732\n",
      "5                     m1      367\n",
      "6               tbilrate      978\n",
      "7                  unemp     55.7\n",
      "8                    pop      349\n",
      "9                   infl      696\n",
      "10               realint      235\n",
      "=======================================================\n",
      "  Explanatory Variables  VIF\n",
      "0              realcons  861\n",
      "1               realinv  309\n",
      "2              realgovt  169\n",
      "3                   cpi  723\n",
      "4                    m1  366\n",
      "5              tbilrate  976\n",
      "6                 unemp 53.8\n",
      "7                   pop  340\n",
      "8                  infl  689\n",
      "9               realint  232\n",
      "=======================================================\n",
      "  Explanatory Variables  VIF\n",
      "0              realcons  849\n",
      "1               realinv  308\n",
      "2              realgovt  169\n",
      "3                   cpi  713\n",
      "4                    m1  364\n",
      "5                 unemp 53.8\n",
      "6                   pop  338\n",
      "7                  infl 8.06\n",
      "8               realint 4.39\n",
      "=======================================================\n",
      "  Explanatory Variables  VIF\n",
      "0              realcons  848\n",
      "1               realinv  222\n",
      "2              realgovt 64.5\n",
      "3                   cpi  556\n",
      "4                    m1  323\n",
      "5                 unemp 25.2\n",
      "6                  infl 6.24\n",
      "7               realint 3.98\n",
      "=======================================================\n",
      "  Explanatory Variables  VIF\n",
      "0              realcons  768\n",
      "1               realinv  222\n",
      "2              realgovt 53.7\n",
      "3                    m1 94.2\n",
      "4                 unemp   24\n",
      "5                  infl 4.57\n",
      "6               realint 2.36\n",
      "=======================================================\n",
      "  Explanatory Variables  VIF\n",
      "0              realcons  767\n",
      "1               realinv  220\n",
      "2              realgovt 53.4\n",
      "3                    m1 85.5\n",
      "4                 unemp 21.5\n",
      "5               realint 1.59\n",
      "=======================================================\n"
     ]
    }
   ],
   "source": [
    "# In fact lets generate a function for VIF\n",
    "\n",
    "def display_vif(df):\n",
    "    results = pd.DataFrame()\n",
    "    results['Explanatory Variables'] = df.columns\n",
    "    results['VIF'] = [variance_inflation_factor(df.values, i) for i in range(len(df.columns))]\n",
    "    print(results)\n",
    "\n",
    "x_all = dataset.iloc[:, 1:]\n",
    "\n",
    "display_vif(x_all)\n",
    "print('=' *55)\n",
    "\n",
    "x_all_i1 = x_all.drop(['realdpi'], axis = 1)\n",
    "display_vif(x_all_i1)\n",
    "print('=' *55)\n",
    "\n",
    "x_all_i2 = x_all.drop(['realdpi', 'tbilrate'], axis = 1)\n",
    "display_vif(x_all_i2)\n",
    "print('=' *55)\n",
    "\n",
    "x_all_i3 = x_all.drop(['realdpi', 'tbilrate', 'pop'], axis = 1)\n",
    "display_vif(x_all_i3)\n",
    "print('=' *55)\n",
    "\n",
    "x_all_i4 = x_all.drop(['realdpi', 'tbilrate', 'pop', 'cpi' ], axis = 1)\n",
    "display_vif(x_all_i4)\n",
    "print('=' *55)\n",
    "\n",
    "x_all_i5 = x_all.drop(['realdpi', 'tbilrate', 'pop', 'cpi', 'infl' ], axis = 1)\n",
    "display_vif(x_all_i5)\n",
    "print('=' *55)"
   ]
  },
  {
   "cell_type": "markdown",
   "metadata": {},
   "source": [
    "We can see that there is a strong degree of multicollinearity between variables, which is not surprising since real government expenditure and investment, which are conditional on tax, usually change in response to changes in real consumption and unemployment."
   ]
  }
 ],
 "metadata": {
  "kernelspec": {
   "display_name": "Python 3",
   "language": "python",
   "name": "python3"
  },
  "language_info": {
   "codemirror_mode": {
    "name": "ipython",
    "version": 3
   },
   "file_extension": ".py",
   "mimetype": "text/x-python",
   "name": "python",
   "nbconvert_exporter": "python",
   "pygments_lexer": "ipython3",
   "version": "3.12.4"
  }
 },
 "nbformat": 4,
 "nbformat_minor": 2
}
